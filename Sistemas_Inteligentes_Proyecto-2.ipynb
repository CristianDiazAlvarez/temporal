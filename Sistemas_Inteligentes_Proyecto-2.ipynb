{
 "cells": [
  {
   "cell_type": "markdown",
   "metadata": {
    "id": "THPKcT3Q3eCt"
   },
   "source": [
    "[Implementación RBF-NN](https://towardsdatascience.com/most-effective-way-to-implement-radial-basis-function-neural-network-for-classification-problem-33c467803319)\n"
   ]
  },
  {
   "cell_type": "code",
   "execution_count": 1,
   "metadata": {
    "colab": {
     "base_uri": "https://localhost:8080/",
     "height": 336
    },
    "id": "yqYvHvcxpJDC",
    "outputId": "00141c4d-190d-4f7d-ad46-c1a068761083"
   },
   "outputs": [
    {
     "name": "stdout",
     "output_type": "stream",
     "text": [
      "Requirement already satisfied: scikit-elcs in /Users/cristiandiazalvarez/opt/anaconda3/lib/python3.7/site-packages (1.2.2)\n",
      "Requirement already satisfied: scikit-learn in /Users/cristiandiazalvarez/opt/anaconda3/lib/python3.7/site-packages (from scikit-elcs) (0.21.3)\n",
      "Requirement already satisfied: numpy in /Users/cristiandiazalvarez/opt/anaconda3/lib/python3.7/site-packages (from scikit-elcs) (1.17.2)\n",
      "Requirement already satisfied: pandas in /Users/cristiandiazalvarez/opt/anaconda3/lib/python3.7/site-packages (from scikit-elcs) (0.25.1)\n",
      "Requirement already satisfied: scipy>=0.17.0 in /Users/cristiandiazalvarez/opt/anaconda3/lib/python3.7/site-packages (from scikit-learn->scikit-elcs) (1.3.1)\n",
      "Requirement already satisfied: joblib>=0.11 in /Users/cristiandiazalvarez/opt/anaconda3/lib/python3.7/site-packages (from scikit-learn->scikit-elcs) (0.13.2)\n",
      "Requirement already satisfied: python-dateutil>=2.6.1 in /Users/cristiandiazalvarez/opt/anaconda3/lib/python3.7/site-packages (from pandas->scikit-elcs) (2.8.0)\n",
      "Requirement already satisfied: pytz>=2017.2 in /Users/cristiandiazalvarez/opt/anaconda3/lib/python3.7/site-packages (from pandas->scikit-elcs) (2019.3)\n",
      "Requirement already satisfied: six>=1.5 in /Users/cristiandiazalvarez/opt/anaconda3/lib/python3.7/site-packages (from python-dateutil>=2.6.1->pandas->scikit-elcs) (1.12.0)\n",
      "\u001b[33mWARNING: You are using pip version 20.2.1; however, version 20.2.4 is available.\n",
      "You should consider upgrading via the '/Users/cristiandiazalvarez/opt/anaconda3/bin/python -m pip install --upgrade pip' command.\u001b[0m\n"
     ]
    }
   ],
   "source": [
    "!pip3 install scikit-elcs"
   ]
  },
  {
   "cell_type": "code",
   "execution_count": 46,
   "metadata": {
    "id": "YFUM9Mg5yM8T"
   },
   "outputs": [],
   "source": [
    "import pandas as pd\n",
    "import numpy as np\n",
    "from sklearn.model_selection import train_test_split\n",
    "from sklearn.model_selection import GridSearchCV\n",
    "\n",
    "from sklearn.preprocessing import LabelEncoder\n",
    "from sklearn.preprocessing import OneHotEncoder\n",
    "from sklearn.preprocessing import MinMaxScaler\n",
    "\n",
    "from sklearn.neural_network import MLPClassifier\n",
    "from sklearn.linear_model import Perceptron\n",
    "\n",
    "from sklearn.metrics import confusion_matrix\n",
    "import seaborn as sns\n",
    "\n",
    "\n",
    "from skeLCS import eLCS\n",
    "\n",
    "import matplotlib.pyplot as plt\n",
    "%matplotlib inline"
   ]
  },
  {
   "cell_type": "markdown",
   "metadata": {
    "id": "EhxtfeWXmpCV"
   },
   "source": [
    "### Data Import"
   ]
  },
  {
   "cell_type": "code",
   "execution_count": 3,
   "metadata": {
    "colab": {
     "base_uri": "https://localhost:8080/",
     "height": 232
    },
    "id": "Suw2xJOJ0Q3z",
    "outputId": "641e7e4b-0f8a-4f77-f64a-1d553ba191bb"
   },
   "outputs": [
    {
     "name": "stdout",
     "output_type": "stream",
     "text": [
      "fatal: destination path 'temporal' already exists and is not an empty directory.\r\n"
     ]
    },
    {
     "data": {
      "text/html": [
       "<div>\n",
       "<style scoped>\n",
       "    .dataframe tbody tr th:only-of-type {\n",
       "        vertical-align: middle;\n",
       "    }\n",
       "\n",
       "    .dataframe tbody tr th {\n",
       "        vertical-align: top;\n",
       "    }\n",
       "\n",
       "    .dataframe thead th {\n",
       "        text-align: right;\n",
       "    }\n",
       "</style>\n",
       "<table border=\"1\" class=\"dataframe\">\n",
       "  <thead>\n",
       "    <tr style=\"text-align: right;\">\n",
       "      <th></th>\n",
       "      <th>Age</th>\n",
       "      <th>Gender</th>\n",
       "      <th>Polyuria</th>\n",
       "      <th>Polydipsia</th>\n",
       "      <th>sudden weight loss</th>\n",
       "      <th>weakness</th>\n",
       "      <th>Polyphagia</th>\n",
       "      <th>Genital thrush</th>\n",
       "      <th>visual blurring</th>\n",
       "      <th>Itching</th>\n",
       "      <th>Irritability</th>\n",
       "      <th>delayed healing</th>\n",
       "      <th>partial paresis</th>\n",
       "      <th>muscle stiffness</th>\n",
       "      <th>Alopecia</th>\n",
       "      <th>Obesity</th>\n",
       "      <th>class</th>\n",
       "    </tr>\n",
       "  </thead>\n",
       "  <tbody>\n",
       "    <tr>\n",
       "      <td>0</td>\n",
       "      <td>40</td>\n",
       "      <td>1</td>\n",
       "      <td>0</td>\n",
       "      <td>1</td>\n",
       "      <td>0</td>\n",
       "      <td>1</td>\n",
       "      <td>0</td>\n",
       "      <td>0</td>\n",
       "      <td>0</td>\n",
       "      <td>1</td>\n",
       "      <td>0</td>\n",
       "      <td>1</td>\n",
       "      <td>0</td>\n",
       "      <td>1</td>\n",
       "      <td>1</td>\n",
       "      <td>1</td>\n",
       "      <td>1</td>\n",
       "    </tr>\n",
       "    <tr>\n",
       "      <td>1</td>\n",
       "      <td>58</td>\n",
       "      <td>1</td>\n",
       "      <td>0</td>\n",
       "      <td>0</td>\n",
       "      <td>0</td>\n",
       "      <td>1</td>\n",
       "      <td>0</td>\n",
       "      <td>0</td>\n",
       "      <td>1</td>\n",
       "      <td>0</td>\n",
       "      <td>0</td>\n",
       "      <td>0</td>\n",
       "      <td>1</td>\n",
       "      <td>0</td>\n",
       "      <td>1</td>\n",
       "      <td>0</td>\n",
       "      <td>1</td>\n",
       "    </tr>\n",
       "    <tr>\n",
       "      <td>2</td>\n",
       "      <td>41</td>\n",
       "      <td>1</td>\n",
       "      <td>1</td>\n",
       "      <td>0</td>\n",
       "      <td>0</td>\n",
       "      <td>1</td>\n",
       "      <td>1</td>\n",
       "      <td>0</td>\n",
       "      <td>0</td>\n",
       "      <td>1</td>\n",
       "      <td>0</td>\n",
       "      <td>1</td>\n",
       "      <td>0</td>\n",
       "      <td>1</td>\n",
       "      <td>1</td>\n",
       "      <td>0</td>\n",
       "      <td>1</td>\n",
       "    </tr>\n",
       "    <tr>\n",
       "      <td>3</td>\n",
       "      <td>45</td>\n",
       "      <td>1</td>\n",
       "      <td>0</td>\n",
       "      <td>0</td>\n",
       "      <td>1</td>\n",
       "      <td>1</td>\n",
       "      <td>1</td>\n",
       "      <td>1</td>\n",
       "      <td>0</td>\n",
       "      <td>1</td>\n",
       "      <td>0</td>\n",
       "      <td>1</td>\n",
       "      <td>0</td>\n",
       "      <td>0</td>\n",
       "      <td>0</td>\n",
       "      <td>0</td>\n",
       "      <td>1</td>\n",
       "    </tr>\n",
       "    <tr>\n",
       "      <td>4</td>\n",
       "      <td>60</td>\n",
       "      <td>1</td>\n",
       "      <td>1</td>\n",
       "      <td>1</td>\n",
       "      <td>1</td>\n",
       "      <td>1</td>\n",
       "      <td>1</td>\n",
       "      <td>0</td>\n",
       "      <td>1</td>\n",
       "      <td>1</td>\n",
       "      <td>1</td>\n",
       "      <td>1</td>\n",
       "      <td>1</td>\n",
       "      <td>1</td>\n",
       "      <td>1</td>\n",
       "      <td>1</td>\n",
       "      <td>1</td>\n",
       "    </tr>\n",
       "  </tbody>\n",
       "</table>\n",
       "</div>"
      ],
      "text/plain": [
       "   Age  Gender  Polyuria  Polydipsia  sudden weight loss  weakness  \\\n",
       "0   40       1         0           1                   0         1   \n",
       "1   58       1         0           0                   0         1   \n",
       "2   41       1         1           0                   0         1   \n",
       "3   45       1         0           0                   1         1   \n",
       "4   60       1         1           1                   1         1   \n",
       "\n",
       "   Polyphagia  Genital thrush  visual blurring  Itching  Irritability  \\\n",
       "0           0               0                0        1             0   \n",
       "1           0               0                1        0             0   \n",
       "2           1               0                0        1             0   \n",
       "3           1               1                0        1             0   \n",
       "4           1               0                1        1             1   \n",
       "\n",
       "   delayed healing  partial paresis  muscle stiffness  Alopecia  Obesity  \\\n",
       "0                1                0                 1         1        1   \n",
       "1                0                1                 0         1        0   \n",
       "2                1                0                 1         1        0   \n",
       "3                1                0                 0         0        0   \n",
       "4                1                1                 1         1        1   \n",
       "\n",
       "   class  \n",
       "0      1  \n",
       "1      1  \n",
       "2      1  \n",
       "3      1  \n",
       "4      1  "
      ]
     },
     "execution_count": 3,
     "metadata": {},
     "output_type": "execute_result"
    }
   ],
   "source": [
    "!git clone https://github.com/CristianDiazAlvarez/temporal.git\n",
    "df = pd.read_csv(\"temporal/diabetes_data_upload.csv\")\n",
    "df.iloc[:,1:] = df.iloc[:,1:].apply(LabelEncoder().fit_transform)\n",
    "df.head()"
   ]
  },
  {
   "cell_type": "markdown",
   "metadata": {
    "id": "mmOxD0jVSnJZ"
   },
   "source": [
    "## AG"
   ]
  },
  {
   "cell_type": "markdown",
   "metadata": {
    "id": "Rx0uP30H9SQu"
   },
   "source": [
    "### n_buckets vs empty_buckets"
   ]
  },
  {
   "cell_type": "code",
   "execution_count": 4,
   "metadata": {
    "colab": {
     "base_uri": "https://localhost:8080/",
     "height": 660
    },
    "id": "sDdbA_mRSq-F",
    "outputId": "57197c5b-04c3-438c-aa69-65f4e5ab34f8"
   },
   "outputs": [
    {
     "name": "stdout",
     "output_type": "stream",
     "text": [
      "[  2   4   8  16  32  64 128 256]\n"
     ]
    },
    {
     "data": {
      "text/plain": [
       "Text(0, 0.5, 'Buckets Vacios [%]')"
      ]
     },
     "execution_count": 4,
     "metadata": {},
     "output_type": "execute_result"
    },
    {
     "data": {
      "image/png": "[encoded data removed]",
      "text/plain": [
       "<Figure size 1440x720 with 1 Axes>"
      ]
     },
     "metadata": {
      "needs_background": "light"
     },
     "output_type": "display_data"
    }
   ],
   "source": [
    "bins = 2**np.array(range(1,9))\n",
    "print(bins)\n",
    "h = []\n",
    "for n_bins in bins:\n",
    "  h.append(sum(pd.cut(df[\"Age\"], bins=n_bins, labels=range(n_bins)).value_counts() == 0)*100/n_bins)\n",
    "\n",
    "plt.figure(figsize=(20,10))\n",
    "plt.plot(range(1,9),h,linewidth=4)\n",
    "plt.grid()\n",
    "plt.xticks(range(1,9))\n",
    "plt.rcParams.update({'font.size': 20})\n",
    "plt.xlabel('Numero de Bits para Discretización')\n",
    "plt.ylabel('Buckets Vacios [%]')\n"
   ]
  },
  {
   "cell_type": "markdown",
   "metadata": {
    "id": "GcbBBcN0ASE4"
   },
   "source": [
    "### Implementation"
   ]
  },
  {
   "cell_type": "code",
   "execution_count": null,
   "metadata": {},
   "outputs": [],
   "source": []
  },
  {
   "cell_type": "code",
   "execution_count": 8,
   "metadata": {
    "colab": {
     "base_uri": "https://localhost:8080/",
     "height": 52
    },
    "id": "12BjJKQv63ja",
    "outputId": "765b04cf-c418-4cef-cf6f-33a53a2e9893"
   },
   "outputs": [
    {
     "name": "stdout",
     "output_type": "stream",
     "text": [
      "Features header ['Age_0', 'Gender', 'Polyuria', 'Polydipsia', 'sudden weight loss', 'weakness', 'Polyphagia', 'Genital thrush', 'visual blurring', 'Itching', 'Irritability', 'delayed healing', 'partial paresis', 'muscle stiffness', 'Alopecia', 'Obesity']\n",
      "Fitting 3 folds for each of 96 candidates, totalling 288 fits\n"
     ]
    },
    {
     "name": "stderr",
     "output_type": "stream",
     "text": [
      "[Parallel(n_jobs=-1)]: Using backend LokyBackend with 8 concurrent workers.\n",
      "[Parallel(n_jobs=-1)]: Done  34 tasks      | elapsed:   28.8s\n",
      "[Parallel(n_jobs=-1)]: Done 184 tasks      | elapsed:  3.9min\n",
      "[Parallel(n_jobs=-1)]: Done 288 out of 288 | elapsed:  8.2min finished\n",
      "/Users/cristiandiazalvarez/opt/anaconda3/lib/python3.7/site-packages/sklearn/model_selection/_search.py:814: DeprecationWarning: The default of the `iid` parameter will change from True to False in version 0.22 and will be removed in 0.24. This will change numeric results when test-set sizes are unequal.\n",
      "  DeprecationWarning)\n"
     ]
    },
    {
     "name": "stdout",
     "output_type": "stream",
     "text": [
      "Features header ['Age_0', 'Age_1', 'Gender', 'Polyuria', 'Polydipsia', 'sudden weight loss', 'weakness', 'Polyphagia', 'Genital thrush', 'visual blurring', 'Itching', 'Irritability', 'delayed healing', 'partial paresis', 'muscle stiffness', 'Alopecia', 'Obesity']\n",
      "Fitting 3 folds for each of 96 candidates, totalling 288 fits\n"
     ]
    },
    {
     "name": "stderr",
     "output_type": "stream",
     "text": [
      "[Parallel(n_jobs=-1)]: Using backend LokyBackend with 8 concurrent workers.\n",
      "[Parallel(n_jobs=-1)]: Done  34 tasks      | elapsed:   28.4s\n",
      "[Parallel(n_jobs=-1)]: Done 184 tasks      | elapsed:  3.8min\n",
      "[Parallel(n_jobs=-1)]: Done 288 out of 288 | elapsed:  8.1min finished\n",
      "/Users/cristiandiazalvarez/opt/anaconda3/lib/python3.7/site-packages/sklearn/model_selection/_search.py:814: DeprecationWarning: The default of the `iid` parameter will change from True to False in version 0.22 and will be removed in 0.24. This will change numeric results when test-set sizes are unequal.\n",
      "  DeprecationWarning)\n"
     ]
    },
    {
     "name": "stdout",
     "output_type": "stream",
     "text": [
      "Features header ['Age_0', 'Age_1', 'Age_2', 'Gender', 'Polyuria', 'Polydipsia', 'sudden weight loss', 'weakness', 'Polyphagia', 'Genital thrush', 'visual blurring', 'Itching', 'Irritability', 'delayed healing', 'partial paresis', 'muscle stiffness', 'Alopecia', 'Obesity']\n",
      "Fitting 3 folds for each of 96 candidates, totalling 288 fits\n"
     ]
    },
    {
     "name": "stderr",
     "output_type": "stream",
     "text": [
      "[Parallel(n_jobs=-1)]: Using backend LokyBackend with 8 concurrent workers.\n",
      "[Parallel(n_jobs=-1)]: Done  34 tasks      | elapsed:   28.9s\n",
      "[Parallel(n_jobs=-1)]: Done 184 tasks      | elapsed:  3.9min\n",
      "[Parallel(n_jobs=-1)]: Done 288 out of 288 | elapsed:  8.1min finished\n",
      "/Users/cristiandiazalvarez/opt/anaconda3/lib/python3.7/site-packages/sklearn/model_selection/_search.py:814: DeprecationWarning: The default of the `iid` parameter will change from True to False in version 0.22 and will be removed in 0.24. This will change numeric results when test-set sizes are unequal.\n",
      "  DeprecationWarning)\n"
     ]
    },
    {
     "name": "stdout",
     "output_type": "stream",
     "text": [
      "Features header ['Age_0', 'Age_1', 'Age_2', 'Age_3', 'Gender', 'Polyuria', 'Polydipsia', 'sudden weight loss', 'weakness', 'Polyphagia', 'Genital thrush', 'visual blurring', 'Itching', 'Irritability', 'delayed healing', 'partial paresis', 'muscle stiffness', 'Alopecia', 'Obesity']\n",
      "Fitting 3 folds for each of 96 candidates, totalling 288 fits\n"
     ]
    },
    {
     "name": "stderr",
     "output_type": "stream",
     "text": [
      "[Parallel(n_jobs=-1)]: Using backend LokyBackend with 8 concurrent workers.\n",
      "[Parallel(n_jobs=-1)]: Done  34 tasks      | elapsed:   27.3s\n",
      "[Parallel(n_jobs=-1)]: Done 184 tasks      | elapsed:  3.6min\n",
      "[Parallel(n_jobs=-1)]: Done 288 out of 288 | elapsed:  7.3min finished\n",
      "/Users/cristiandiazalvarez/opt/anaconda3/lib/python3.7/site-packages/sklearn/model_selection/_search.py:814: DeprecationWarning: The default of the `iid` parameter will change from True to False in version 0.22 and will be removed in 0.24. This will change numeric results when test-set sizes are unequal.\n",
      "  DeprecationWarning)\n"
     ]
    },
    {
     "name": "stdout",
     "output_type": "stream",
     "text": [
      "Features header ['Age_0', 'Age_1', 'Age_2', 'Age_3', 'Age_4', 'Gender', 'Polyuria', 'Polydipsia', 'sudden weight loss', 'weakness', 'Polyphagia', 'Genital thrush', 'visual blurring', 'Itching', 'Irritability', 'delayed healing', 'partial paresis', 'muscle stiffness', 'Alopecia', 'Obesity']\n",
      "Fitting 3 folds for each of 96 candidates, totalling 288 fits\n"
     ]
    },
    {
     "name": "stderr",
     "output_type": "stream",
     "text": [
      "[Parallel(n_jobs=-1)]: Using backend LokyBackend with 8 concurrent workers.\n",
      "[Parallel(n_jobs=-1)]: Done  34 tasks      | elapsed:   30.0s\n",
      "[Parallel(n_jobs=-1)]: Done 184 tasks      | elapsed:  3.6min\n",
      "[Parallel(n_jobs=-1)]: Done 288 out of 288 | elapsed:  7.3min finished\n",
      "/Users/cristiandiazalvarez/opt/anaconda3/lib/python3.7/site-packages/sklearn/model_selection/_search.py:814: DeprecationWarning: The default of the `iid` parameter will change from True to False in version 0.22 and will be removed in 0.24. This will change numeric results when test-set sizes are unequal.\n",
      "  DeprecationWarning)\n"
     ]
    }
   ],
   "source": [
    "parameters = {\n",
    "    \"N\": [91, 182, 273, 364],\n",
    "    \"chi\": [0.2, 0.8],\n",
    "    \"mu\": [0.04, 0.1],\n",
    "    \"selection_method\": [\"tournament\", \"roulette\"],\n",
    "    \"theta_sel\": [0.25, 0.5, 0.75]\n",
    "}\n",
    "\n",
    "clfs = []\n",
    "for n_bits in range(1,6):\n",
    "    age_buckets = pd.cut(df[\"Age\"], bins=2**n_bits, labels=range(2**n_bits)).to_frame()\n",
    "    age_buckets = list(age_buckets[\"Age\"].apply(lambda x: (\"{0:0%sb}\" % n_bits).format(x)).values)\n",
    "    age_buckets = [list(x) for x in age_buckets]\n",
    "    age_buckets = [[int(y) for y in x] for x in age_buckets]\n",
    "    age_buckets = pd.DataFrame(data=np.array(age_buckets), columns=[\"Age_{}\".format(x) for x in range(n_bits)])\n",
    "\n",
    "    X = pd.concat([age_buckets,df.iloc[:,1:-1]],axis=1)\n",
    "    print(\"Features header {}\".format(list(X.columns)))\n",
    "\n",
    "    X=X.to_numpy()\n",
    "    y = df[\"class\"].to_numpy()\n",
    "  \n",
    "    clf = GridSearchCV(eLCS(), parameters, n_jobs=-1, verbose=1,cv=3, return_train_score = True) \n",
    "    \n",
    "    clf.fit(X,y)\n",
    "    clfs.append(clf)"
   ]
  },
  {
   "cell_type": "code",
   "execution_count": 26,
   "metadata": {},
   "outputs": [
    {
     "data": {
      "text/plain": [
       "eLCS(N=364, acc_sub=0.99, beta=0.2, chi=0.2, delta=0.1,\n",
       "     discrete_attribute_limit=10, do_GA_subsumption=True,\n",
       "     do_correct_set_subsumption=False, fitness_reduction=0.1, init_fit=0.01,\n",
       "     learning_iterations=10000, match_for_missingness=False, mu=0.04, nu=5,\n",
       "     p_spec=0.5, random_state=None, reboot_filename=None,\n",
       "     selection_method='tournament',\n",
       "     specified_attributes=array([], dtype=float64), theta_GA=25, theta_del=20,\n",
       "     theta_sel=0.75, theta_sub=20, track_accuracy_while_fit=False)"
      ]
     },
     "execution_count": 26,
     "metadata": {},
     "output_type": "execute_result"
    }
   ],
   "source": [
    "clfs[4].best_estimator_"
   ]
  },
  {
   "cell_type": "code",
   "execution_count": 54,
   "metadata": {},
   "outputs": [
    {
     "name": "stderr",
     "output_type": "stream",
     "text": [
      "/Users/cristiandiazalvarez/opt/anaconda3/lib/python3.7/site-packages/ipykernel_launcher.py:8: SettingWithCopyWarning: \n",
      "A value is trying to be set on a copy of a slice from a DataFrame.\n",
      "Try using .loc[row_indexer,col_indexer] = value instead\n",
      "\n",
      "See the caveats in the documentation: http://pandas.pydata.org/pandas-docs/stable/user_guide/indexing.html#returning-a-view-versus-a-copy\n",
      "  \n"
     ]
    },
    {
     "data": {
      "text/html": [
       "<div>\n",
       "<style scoped>\n",
       "    .dataframe tbody tr th:only-of-type {\n",
       "        vertical-align: middle;\n",
       "    }\n",
       "\n",
       "    .dataframe tbody tr th {\n",
       "        vertical-align: top;\n",
       "    }\n",
       "\n",
       "    .dataframe thead th {\n",
       "        text-align: right;\n",
       "    }\n",
       "</style>\n",
       "<table border=\"1\" class=\"dataframe\">\n",
       "  <thead>\n",
       "    <tr style=\"text-align: right;\">\n",
       "      <th></th>\n",
       "      <th>mean_fit_time</th>\n",
       "      <th>std_fit_time</th>\n",
       "      <th>mean_score_time</th>\n",
       "      <th>std_score_time</th>\n",
       "      <th>param_N</th>\n",
       "      <th>param_chi</th>\n",
       "      <th>param_mu</th>\n",
       "      <th>param_selection_method</th>\n",
       "      <th>param_theta_sel</th>\n",
       "      <th>params</th>\n",
       "      <th>split0_test_score</th>\n",
       "      <th>split1_test_score</th>\n",
       "      <th>split2_test_score</th>\n",
       "      <th>mean_test_score</th>\n",
       "      <th>std_test_score</th>\n",
       "      <th>rank_test_score</th>\n",
       "      <th>n_bits</th>\n",
       "    </tr>\n",
       "  </thead>\n",
       "  <tbody>\n",
       "    <tr>\n",
       "      <td>21</td>\n",
       "      <td>6.087656</td>\n",
       "      <td>0.116878</td>\n",
       "      <td>0.098201</td>\n",
       "      <td>0.004343</td>\n",
       "      <td>91</td>\n",
       "      <td>0.8</td>\n",
       "      <td>0.1</td>\n",
       "      <td>roulette</td>\n",
       "      <td>0.25</td>\n",
       "      <td>{'N': 91, 'chi': 0.8, 'mu': 0.1, 'selection_me...</td>\n",
       "      <td>0.669549</td>\n",
       "      <td>0.750732</td>\n",
       "      <td>0.886650</td>\n",
       "      <td>0.768525</td>\n",
       "      <td>0.089438</td>\n",
       "      <td>96</td>\n",
       "      <td>2</td>\n",
       "    </tr>\n",
       "    <tr>\n",
       "      <td>12</td>\n",
       "      <td>4.965073</td>\n",
       "      <td>0.293521</td>\n",
       "      <td>0.085286</td>\n",
       "      <td>0.002674</td>\n",
       "      <td>91</td>\n",
       "      <td>0.8</td>\n",
       "      <td>0.04</td>\n",
       "      <td>tournament</td>\n",
       "      <td>0.25</td>\n",
       "      <td>{'N': 91, 'chi': 0.8, 'mu': 0.04, 'selection_m...</td>\n",
       "      <td>0.762938</td>\n",
       "      <td>0.680778</td>\n",
       "      <td>0.838479</td>\n",
       "      <td>0.760433</td>\n",
       "      <td>0.064343</td>\n",
       "      <td>96</td>\n",
       "      <td>1</td>\n",
       "    </tr>\n",
       "    <tr>\n",
       "      <td>20</td>\n",
       "      <td>6.681481</td>\n",
       "      <td>0.063768</td>\n",
       "      <td>0.113710</td>\n",
       "      <td>0.005897</td>\n",
       "      <td>91</td>\n",
       "      <td>0.8</td>\n",
       "      <td>0.1</td>\n",
       "      <td>tournament</td>\n",
       "      <td>0.75</td>\n",
       "      <td>{'N': 91, 'chi': 0.8, 'mu': 0.1, 'selection_me...</td>\n",
       "      <td>0.684545</td>\n",
       "      <td>0.767401</td>\n",
       "      <td>0.750429</td>\n",
       "      <td>0.734062</td>\n",
       "      <td>0.035791</td>\n",
       "      <td>96</td>\n",
       "      <td>4</td>\n",
       "    </tr>\n",
       "    <tr>\n",
       "      <td>7</td>\n",
       "      <td>6.068190</td>\n",
       "      <td>0.065922</td>\n",
       "      <td>0.103237</td>\n",
       "      <td>0.006542</td>\n",
       "      <td>91</td>\n",
       "      <td>0.2</td>\n",
       "      <td>0.1</td>\n",
       "      <td>tournament</td>\n",
       "      <td>0.5</td>\n",
       "      <td>{'N': 91, 'chi': 0.2, 'mu': 0.1, 'selection_me...</td>\n",
       "      <td>0.687265</td>\n",
       "      <td>0.784349</td>\n",
       "      <td>0.711549</td>\n",
       "      <td>0.727783</td>\n",
       "      <td>0.041318</td>\n",
       "      <td>96</td>\n",
       "      <td>3</td>\n",
       "    </tr>\n",
       "    <tr>\n",
       "      <td>5</td>\n",
       "      <td>5.826704</td>\n",
       "      <td>0.219884</td>\n",
       "      <td>0.091675</td>\n",
       "      <td>0.005433</td>\n",
       "      <td>91</td>\n",
       "      <td>0.2</td>\n",
       "      <td>0.04</td>\n",
       "      <td>roulette</td>\n",
       "      <td>0.75</td>\n",
       "      <td>{'N': 91, 'chi': 0.2, 'mu': 0.04, 'selection_m...</td>\n",
       "      <td>0.747873</td>\n",
       "      <td>0.644372</td>\n",
       "      <td>0.661378</td>\n",
       "      <td>0.684630</td>\n",
       "      <td>0.045382</td>\n",
       "      <td>96</td>\n",
       "      <td>5</td>\n",
       "    </tr>\n",
       "  </tbody>\n",
       "</table>\n",
       "</div>"
      ],
      "text/plain": [
       "    mean_fit_time  std_fit_time  mean_score_time  std_score_time param_N  \\\n",
       "21       6.087656      0.116878         0.098201        0.004343      91   \n",
       "12       4.965073      0.293521         0.085286        0.002674      91   \n",
       "20       6.681481      0.063768         0.113710        0.005897      91   \n",
       "7        6.068190      0.065922         0.103237        0.006542      91   \n",
       "5        5.826704      0.219884         0.091675        0.005433      91   \n",
       "\n",
       "   param_chi param_mu param_selection_method param_theta_sel  \\\n",
       "21       0.8      0.1               roulette            0.25   \n",
       "12       0.8     0.04             tournament            0.25   \n",
       "20       0.8      0.1             tournament            0.75   \n",
       "7        0.2      0.1             tournament             0.5   \n",
       "5        0.2     0.04               roulette            0.75   \n",
       "\n",
       "                                               params  split0_test_score  \\\n",
       "21  {'N': 91, 'chi': 0.8, 'mu': 0.1, 'selection_me...           0.669549   \n",
       "12  {'N': 91, 'chi': 0.8, 'mu': 0.04, 'selection_m...           0.762938   \n",
       "20  {'N': 91, 'chi': 0.8, 'mu': 0.1, 'selection_me...           0.684545   \n",
       "7   {'N': 91, 'chi': 0.2, 'mu': 0.1, 'selection_me...           0.687265   \n",
       "5   {'N': 91, 'chi': 0.2, 'mu': 0.04, 'selection_m...           0.747873   \n",
       "\n",
       "    split1_test_score  split2_test_score  mean_test_score  std_test_score  \\\n",
       "21           0.750732           0.886650         0.768525        0.089438   \n",
       "12           0.680778           0.838479         0.760433        0.064343   \n",
       "20           0.767401           0.750429         0.734062        0.035791   \n",
       "7            0.784349           0.711549         0.727783        0.041318   \n",
       "5            0.644372           0.661378         0.684630        0.045382   \n",
       "\n",
       "    rank_test_score  n_bits  \n",
       "21               96       2  \n",
       "12               96       1  \n",
       "20               96       4  \n",
       "7                96       3  \n",
       "5                96       5  "
      ]
     },
     "metadata": {},
     "output_type": "display_data"
    }
   ],
   "source": [
    "resultados = pd.DataFrame()\n",
    "\n",
    "for i in range(5):\n",
    "    pd_results = pd.DataFrame(clfs[i].cv_results_)\n",
    "    pd_results.to_csv('clfs_'+str(i)+'.csv', index=False)\n",
    "    pd_results = pd_results.sort_values(by='rank_test_score',ascending=False)\n",
    "    temp = pd_results.head(1)\n",
    "    temp['n_bits'] = i+1\n",
    "    resultados = resultados.append(temp)\n",
    "\n",
    "final_results = resultados.sort_values(by='mean_test_score',ascending=False)\n",
    "\n",
    "display(final_results)\n",
    "\n",
    "#pd.set_option('display.max_columns', None)"
   ]
  },
  {
   "cell_type": "code",
   "execution_count": 49,
   "metadata": {},
   "outputs": [
    {
     "data": {
      "text/plain": [
       "array([[0.95  , 0.05  ],\n",
       "       [0.0125, 0.9875]])"
      ]
     },
     "execution_count": 49,
     "metadata": {},
     "output_type": "execute_result"
    }
   ],
   "source": [
    "y_pred = clfs[4].best_estimator_.predict(X)\n",
    "cm = confusion_matrix(y, y_pred)\n",
    "cm = cm.astype('float') / cm.sum(axis=1)[:, np.newaxis]\n",
    "cm\n",
    "#sns.heatmap(cm, annot=True, fmt=\"d\")\n"
   ]
  },
  {
   "cell_type": "markdown",
   "metadata": {},
   "source": [
    "### Lectura de resultados desde archivos CSV"
   ]
  },
  {
   "cell_type": "code",
   "execution_count": 56,
   "metadata": {},
   "outputs": [],
   "source": [
    "pd_saved = []\n",
    "for i in range(5):\n",
    "    pd_saved.append(pd.read_csv('clfs_'+str(i)+'.csv', sep=',', index_col=0))"
   ]
  },
  {
   "cell_type": "code",
   "execution_count": 59,
   "metadata": {},
   "outputs": [
    {
     "name": "stderr",
     "output_type": "stream",
     "text": [
      "/Users/cristiandiazalvarez/opt/anaconda3/lib/python3.7/site-packages/ipykernel_launcher.py:5: SettingWithCopyWarning: \n",
      "A value is trying to be set on a copy of a slice from a DataFrame.\n",
      "Try using .loc[row_indexer,col_indexer] = value instead\n",
      "\n",
      "See the caveats in the documentation: http://pandas.pydata.org/pandas-docs/stable/user_guide/indexing.html#returning-a-view-versus-a-copy\n",
      "  \"\"\"\n"
     ]
    },
    {
     "data": {
      "text/html": [
       "<div>\n",
       "<style scoped>\n",
       "    .dataframe tbody tr th:only-of-type {\n",
       "        vertical-align: middle;\n",
       "    }\n",
       "\n",
       "    .dataframe tbody tr th {\n",
       "        vertical-align: top;\n",
       "    }\n",
       "\n",
       "    .dataframe thead th {\n",
       "        text-align: right;\n",
       "    }\n",
       "</style>\n",
       "<table border=\"1\" class=\"dataframe\">\n",
       "  <thead>\n",
       "    <tr style=\"text-align: right;\">\n",
       "      <th></th>\n",
       "      <th>std_fit_time</th>\n",
       "      <th>mean_score_time</th>\n",
       "      <th>std_score_time</th>\n",
       "      <th>param_N</th>\n",
       "      <th>param_chi</th>\n",
       "      <th>param_mu</th>\n",
       "      <th>param_selection_method</th>\n",
       "      <th>param_theta_sel</th>\n",
       "      <th>params</th>\n",
       "      <th>split0_test_score</th>\n",
       "      <th>split1_test_score</th>\n",
       "      <th>split2_test_score</th>\n",
       "      <th>mean_test_score</th>\n",
       "      <th>std_test_score</th>\n",
       "      <th>rank_test_score</th>\n",
       "      <th>n_bits</th>\n",
       "    </tr>\n",
       "    <tr>\n",
       "      <th>mean_fit_time</th>\n",
       "      <th></th>\n",
       "      <th></th>\n",
       "      <th></th>\n",
       "      <th></th>\n",
       "      <th></th>\n",
       "      <th></th>\n",
       "      <th></th>\n",
       "      <th></th>\n",
       "      <th></th>\n",
       "      <th></th>\n",
       "      <th></th>\n",
       "      <th></th>\n",
       "      <th></th>\n",
       "      <th></th>\n",
       "      <th></th>\n",
       "      <th></th>\n",
       "    </tr>\n",
       "  </thead>\n",
       "  <tbody>\n",
       "    <tr>\n",
       "      <td>6.087656</td>\n",
       "      <td>0.116878</td>\n",
       "      <td>0.098201</td>\n",
       "      <td>0.004343</td>\n",
       "      <td>91</td>\n",
       "      <td>0.8</td>\n",
       "      <td>0.10</td>\n",
       "      <td>roulette</td>\n",
       "      <td>0.25</td>\n",
       "      <td>{'N': 91, 'chi': 0.8, 'mu': 0.1, 'selection_me...</td>\n",
       "      <td>0.669549</td>\n",
       "      <td>0.750732</td>\n",
       "      <td>0.886650</td>\n",
       "      <td>0.768525</td>\n",
       "      <td>0.089438</td>\n",
       "      <td>96</td>\n",
       "      <td>2</td>\n",
       "    </tr>\n",
       "    <tr>\n",
       "      <td>4.965073</td>\n",
       "      <td>0.293521</td>\n",
       "      <td>0.085286</td>\n",
       "      <td>0.002674</td>\n",
       "      <td>91</td>\n",
       "      <td>0.8</td>\n",
       "      <td>0.04</td>\n",
       "      <td>tournament</td>\n",
       "      <td>0.25</td>\n",
       "      <td>{'N': 91, 'chi': 0.8, 'mu': 0.04, 'selection_m...</td>\n",
       "      <td>0.762938</td>\n",
       "      <td>0.680778</td>\n",
       "      <td>0.838479</td>\n",
       "      <td>0.760433</td>\n",
       "      <td>0.064343</td>\n",
       "      <td>96</td>\n",
       "      <td>1</td>\n",
       "    </tr>\n",
       "    <tr>\n",
       "      <td>6.681481</td>\n",
       "      <td>0.063768</td>\n",
       "      <td>0.113710</td>\n",
       "      <td>0.005897</td>\n",
       "      <td>91</td>\n",
       "      <td>0.8</td>\n",
       "      <td>0.10</td>\n",
       "      <td>tournament</td>\n",
       "      <td>0.75</td>\n",
       "      <td>{'N': 91, 'chi': 0.8, 'mu': 0.1, 'selection_me...</td>\n",
       "      <td>0.684545</td>\n",
       "      <td>0.767401</td>\n",
       "      <td>0.750429</td>\n",
       "      <td>0.734062</td>\n",
       "      <td>0.035791</td>\n",
       "      <td>96</td>\n",
       "      <td>4</td>\n",
       "    </tr>\n",
       "    <tr>\n",
       "      <td>6.068190</td>\n",
       "      <td>0.065922</td>\n",
       "      <td>0.103237</td>\n",
       "      <td>0.006542</td>\n",
       "      <td>91</td>\n",
       "      <td>0.2</td>\n",
       "      <td>0.10</td>\n",
       "      <td>tournament</td>\n",
       "      <td>0.50</td>\n",
       "      <td>{'N': 91, 'chi': 0.2, 'mu': 0.1, 'selection_me...</td>\n",
       "      <td>0.687265</td>\n",
       "      <td>0.784349</td>\n",
       "      <td>0.711549</td>\n",
       "      <td>0.727783</td>\n",
       "      <td>0.041318</td>\n",
       "      <td>96</td>\n",
       "      <td>3</td>\n",
       "    </tr>\n",
       "    <tr>\n",
       "      <td>5.826704</td>\n",
       "      <td>0.219884</td>\n",
       "      <td>0.091675</td>\n",
       "      <td>0.005433</td>\n",
       "      <td>91</td>\n",
       "      <td>0.2</td>\n",
       "      <td>0.04</td>\n",
       "      <td>roulette</td>\n",
       "      <td>0.75</td>\n",
       "      <td>{'N': 91, 'chi': 0.2, 'mu': 0.04, 'selection_m...</td>\n",
       "      <td>0.747873</td>\n",
       "      <td>0.644372</td>\n",
       "      <td>0.661378</td>\n",
       "      <td>0.684630</td>\n",
       "      <td>0.045382</td>\n",
       "      <td>96</td>\n",
       "      <td>5</td>\n",
       "    </tr>\n",
       "  </tbody>\n",
       "</table>\n",
       "</div>"
      ],
      "text/plain": [
       "               std_fit_time  mean_score_time  std_score_time  param_N  \\\n",
       "mean_fit_time                                                           \n",
       "6.087656           0.116878         0.098201        0.004343       91   \n",
       "4.965073           0.293521         0.085286        0.002674       91   \n",
       "6.681481           0.063768         0.113710        0.005897       91   \n",
       "6.068190           0.065922         0.103237        0.006542       91   \n",
       "5.826704           0.219884         0.091675        0.005433       91   \n",
       "\n",
       "               param_chi  param_mu param_selection_method  param_theta_sel  \\\n",
       "mean_fit_time                                                                \n",
       "6.087656             0.8      0.10               roulette             0.25   \n",
       "4.965073             0.8      0.04             tournament             0.25   \n",
       "6.681481             0.8      0.10             tournament             0.75   \n",
       "6.068190             0.2      0.10             tournament             0.50   \n",
       "5.826704             0.2      0.04               roulette             0.75   \n",
       "\n",
       "                                                          params  \\\n",
       "mean_fit_time                                                      \n",
       "6.087656       {'N': 91, 'chi': 0.8, 'mu': 0.1, 'selection_me...   \n",
       "4.965073       {'N': 91, 'chi': 0.8, 'mu': 0.04, 'selection_m...   \n",
       "6.681481       {'N': 91, 'chi': 0.8, 'mu': 0.1, 'selection_me...   \n",
       "6.068190       {'N': 91, 'chi': 0.2, 'mu': 0.1, 'selection_me...   \n",
       "5.826704       {'N': 91, 'chi': 0.2, 'mu': 0.04, 'selection_m...   \n",
       "\n",
       "               split0_test_score  split1_test_score  split2_test_score  \\\n",
       "mean_fit_time                                                            \n",
       "6.087656                0.669549           0.750732           0.886650   \n",
       "4.965073                0.762938           0.680778           0.838479   \n",
       "6.681481                0.684545           0.767401           0.750429   \n",
       "6.068190                0.687265           0.784349           0.711549   \n",
       "5.826704                0.747873           0.644372           0.661378   \n",
       "\n",
       "               mean_test_score  std_test_score  rank_test_score  n_bits  \n",
       "mean_fit_time                                                            \n",
       "6.087656              0.768525        0.089438               96       2  \n",
       "4.965073              0.760433        0.064343               96       1  \n",
       "6.681481              0.734062        0.035791               96       4  \n",
       "6.068190              0.727783        0.041318               96       3  \n",
       "5.826704              0.684630        0.045382               96       5  "
      ]
     },
     "metadata": {},
     "output_type": "display_data"
    }
   ],
   "source": [
    "resultados_guardados = pd.DataFrame()\n",
    "for i in range(5):\n",
    "    pd_results_saved = pd_saved[i].sort_values(by='rank_test_score',ascending=False)\n",
    "    temp = pd_results_saved.head(1)\n",
    "    temp['n_bits'] = i+1\n",
    "    resultados_guardados = resultados_guardados.append(temp)\n",
    "\n",
    "final_results_saved = resultados_guardados.sort_values(by='mean_test_score',ascending=False)\n",
    "\n",
    "display(final_results_saved)"
   ]
  },
  {
   "cell_type": "markdown",
   "metadata": {
    "id": "m4jq00ckAZKg"
   },
   "source": [
    "### Testing"
   ]
  },
  {
   "cell_type": "code",
   "execution_count": null,
   "metadata": {
    "id": "b-2sgULQpu_G"
   },
   "outputs": [],
   "source": [
    "n_bits = 5\n",
    "age_buckets = pd.cut(df[\"Age\"], bins=2**n_bits, labels=range(2**n_bits)).to_frame()"
   ]
  },
  {
   "cell_type": "code",
   "execution_count": null,
   "metadata": {
    "colab": {
     "base_uri": "https://localhost:8080/",
     "height": 406
    },
    "id": "56ddFp5gru5s",
    "outputId": "8f9bea3e-5809-4a1d-9f31-807d4bf68448"
   },
   "outputs": [],
   "source": [
    "age_buckets = list(age_buckets[\"Age\"].apply(lambda x: (\"{0:0%sb}\" % n_bits).format(x)).values)\n",
    "age_buckets = [list(x) for x in age_buckets]\n",
    "age_buckets = [[int(y) for y in x] for x in age_buckets]\n",
    "age_buckets = pd.DataFrame(data=np.array(age_buckets), columns=[\"Age_{}\".format(x) for x in range(n_bits)])\n",
    "age_buckets"
   ]
  },
  {
   "cell_type": "code",
   "execution_count": null,
   "metadata": {
    "id": "qANgA-ea0om6"
   },
   "outputs": [],
   "source": [
    "X = pd.concat([age_buckets,df.iloc[:,1:-1]],axis=1)\n",
    "headers = np.array([\"_\".join(x.lower().split()) for x in list(X.columns)])\n",
    "\n",
    "X = X.to_numpy()\n",
    "y = df[\"class\"].to_numpy()\n",
    "\n",
    "X_train, X_test, y_train, y_test = train_test_split(X,y,test_size=0.3,random_state=2020)"
   ]
  },
  {
   "cell_type": "code",
   "execution_count": null,
   "metadata": {
    "colab": {
     "base_uri": "https://localhost:8080/",
     "height": 34
    },
    "id": "408WfOMA4DPJ",
    "outputId": "0f35f334-c657-4424-a039-3f47ee3fe895"
   },
   "outputs": [],
   "source": [
    "X_train.shape"
   ]
  },
  {
   "cell_type": "code",
   "execution_count": null,
   "metadata": {
    "id": "Y0J2jgCwtjcO"
   },
   "outputs": [],
   "source": [
    "from skeLCS import eLCS\n",
    "\n",
    "model = eLCS(track_accuracy_while_fit=True)"
   ]
  },
  {
   "cell_type": "code",
   "execution_count": null,
   "metadata": {
    "id": "hLe4aX9It7eQ"
   },
   "outputs": [],
   "source": [
    "trainedModel = model.fit(X_train,y_train)"
   ]
  },
  {
   "cell_type": "code",
   "execution_count": null,
   "metadata": {
    "colab": {
     "base_uri": "https://localhost:8080/",
     "height": 34
    },
    "id": "hCI8oBQQuUUL",
    "outputId": "099a5096-87b5-4962-99d6-7d5a48d4a5c4"
   },
   "outputs": [],
   "source": [
    "1-(sum(abs(trainedModel.predict(X_test)-y_test))/len(y_test))"
   ]
  },
  {
   "cell_type": "code",
   "execution_count": null,
   "metadata": {
    "id": "9IHcgXbXAGn1"
   },
   "outputs": [],
   "source": [
    "0.9423076923076923"
   ]
  },
  {
   "cell_type": "code",
   "execution_count": null,
   "metadata": {
    "colab": {
     "base_uri": "https://localhost:8080/",
     "height": 556
    },
    "id": "8G7Uq3KXu0yV",
    "outputId": "08436ddc-3f49-4908-cae4-cb75cf8804f6"
   },
   "outputs": [],
   "source": [
    "trainedModel.export_final_rule_population(headers,\"Diabetes?\")\n",
    "\n",
    "populationData2 = pd.read_csv(\"populationData.csv\")\n",
    "# display(populationData2)\n",
    "populationData2[]"
   ]
  },
  {
   "cell_type": "code",
   "execution_count": null,
   "metadata": {
    "colab": {
     "base_uri": "https://localhost:8080/",
     "height": 405
    },
    "id": "yceOiZSHav85",
    "outputId": "15380c09-6d31-4058-d5ba-ec8791d5b2c5"
   },
   "outputs": [],
   "source": [
    "parameters = {\n",
    "    \"N\": [91, 182, 273, 364],\n",
    "    \"chi\": [0.2, 0.8],\n",
    "    \"mu\": [0.04, 0.1],\n",
    "    \"selection_method\": [\"tournament\", \"roulette\"],\n",
    "    \"theta_sel\": [0.25, 0.5, 0.75]\n",
    "}\n",
    "\n",
    "clf = GridSearchCV(eLCS(), parameters, n_jobs=-1, verbose=1,cv=3) \n",
    "clf.fit(X_train,y_train)"
   ]
  }
 ],
 "metadata": {
  "colab": {
   "collapsed_sections": [
    "m4jq00ckAZKg"
   ],
   "name": "Sistemas Inteligentes - Proyecto.ipynb",
   "provenance": [],
   "toc_visible": true
  },
  "kernelspec": {
   "display_name": "Python 3",
   "language": "python",
   "name": "python3"
  },
  "language_info": {
   "codemirror_mode": {
    "name": "ipython",
    "version": 3
   },
   "file_extension": ".py",
   "mimetype": "text/x-python",
   "name": "python",
   "nbconvert_exporter": "python",
   "pygments_lexer": "ipython3",
   "version": "3.7.4"
  }
 },
 "nbformat": 4,
 "nbformat_minor": 1
}
